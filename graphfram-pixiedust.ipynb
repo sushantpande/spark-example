from pixiedust.display import *
os.environ['PYSPARK_SUBMIT_ARGS'] = "--master yarn-cluster  pyspark-shell"
#load vertices
v = sqlContext.read.parquet("/user/pnda/result/vertex")

#load edges
e = sqlContext.read.parquet("/user/pnda/result/edge")
import pixiedust
#pixiedust.installPackage("graphframes:graphframes:0.1.0-spark1.6")
from graphframes import *
g =  GraphFrame(v, e)
display(g)
v2 = g.vertices.filter("id='neil.davies@enron.com'")
e2 = g.edges.filter("src='neil.davies@enron.com'")
g2 = GraphFrame(v2,e2)
display(g2)
